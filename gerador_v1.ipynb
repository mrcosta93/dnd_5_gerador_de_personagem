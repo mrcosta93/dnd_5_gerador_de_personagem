{
 "cells": [
  {
   "cell_type": "code",
   "execution_count": 61,
   "metadata": {},
   "outputs": [],
   "source": [
    "import random\n",
    "\n",
    "from operator import add"
   ]
  },
  {
   "cell_type": "code",
   "execution_count": 62,
   "metadata": {},
   "outputs": [],
   "source": [
    "racas = ('anão da colina', 'anão da montanha', 'alto elfo', 'elfo da floresta',\n",
    "        'elfo negro', 'pequenino pés leves', 'pequenino robusto', 'humano',\n",
    "        'draconato', 'gnomo da floresta', 'gnomo da pedra', 'meio elfo',\n",
    "        'meio orc', 'tiferino')\n",
    "\n",
    "classes =       ('barbaro', 'bardo', 'clérigo', 'druida', \n",
    "                'guerreiro', 'monge', 'paladino', 'patrulheiro', \n",
    "                'ladino', 'feiticeiro', 'bruxo', 'mago')\n",
    "\n",
    "background =    ('acólito', 'charlatão', 'criminoso', 'artista', 'herói do povo', \n",
    "                'gladiador', 'artesão da guilda', 'mercador da guilda', 'eremita', 'cavaleiro', \n",
    "                'nobre', 'forasteiro', 'pirata', 'sábio', 'marinheiro', \n",
    "                'soldado', 'espiao', 'garoto de rua')\n",
    "\n",
    "valores_iniciais_de_atributo = (15, 14, 13, 12, 10, 8)\n",
    "\n",
    "bonus_de_atributos_por_racas =  [[0, 0, 2, 0, 1, 0], \n",
    "                                [2, 0, 2, 0, 0, 0],\n",
    "                                [0, 2, 0, 1, 0, 0],\n",
    "                                [0, 2, 0, 0, 1, 0],\n",
    "                                [0, 2, 0, 0, 0, 1],\n",
    "                                [0, 2, 0, 0, 0, 1],\n",
    "                                [0, 2, 1, 0, 0, 0],\n",
    "                                [1, 1, 1, 1, 1, 1],\n",
    "                                [2, 0, 0, 0, 0, 1],\n",
    "                                [0, 1, 0, 2, 0, 0],\n",
    "                                [0, 0, 1, 2, 0, 0],\n",
    "                                [0, 0, 0, 0, 0, 2],\n",
    "                                [2, 0, 1, 0, 0, 0],\n",
    "                                [0, 0, 0, 1, 0, 2]]\n",
    "\n",
    "modificadores = {8: -1, 9: -1, 10: 0, 11: 0, \n",
    "                12: 1, 13: 1, 14: 2, 15: 2, \n",
    "                16: 3, 17: 3, 18: 4, 19: 4}\n",
    "\n",
    "lista_de_pericias = ('acrobacia', 'adestrar animais', 'arcanismo', 'atletismo', 'enganacao',\n",
    "                    'furtividade', 'história', 'intimidação', 'intimação', 'investigação',\n",
    "                    'medicina', 'natureza', 'percepção', 'persuasão', 'prestidigitação',\n",
    "                    'religião', 'sobrevivência')"
   ]
  },
  {
   "cell_type": "code",
   "execution_count": 64,
   "metadata": {},
   "outputs": [],
   "source": [
    "numero_de_racas = len(racas)\n",
    "numero_de_classes = len(classes)\n",
    "numero_de_backgrounds = len(background)\n",
    "\n",
    "gerador_de_raca = random.randint(0, numero_de_racas)\n",
    "gerador_de_classe = random.randint(0, numero_de_classes)\n",
    "gerador_de_background = random.randint(0, numero_de_backgrounds)\n",
    "\n",
    "atributos = random.sample(valores_iniciais_de_atributo, k = 6)\n",
    "atributos = list(map(add, atributos, bonus_de_atributos_por_racas[gerador_de_raca]))\n",
    "\n",
    "if gerador_de_raca == 11:\n",
    "    atributo_extra_1 = random.randint(0, 5)\n",
    "    atributo_extra_2 = random.randint(0, 5)\n",
    "    atributos[atributo_extra_1] += 1\n",
    "    atributos[atributo_extra_2] += 1\n",
    "\n",
    "FOR = atributos[0]\n",
    "DES = atributos[1]\n",
    "CON = atributos[2]\n",
    "INT = atributos[3]\n",
    "SAB = atributos[4]\n",
    "CAR = atributos[5]"
   ]
  },
  {
   "cell_type": "code",
   "execution_count": 65,
   "metadata": {},
   "outputs": [
    {
     "name": "stdout",
     "output_type": "stream",
     "text": [
      "A raça é meio elfo, a classe é bardo e o background é gladiador\n",
      "\n",
      "Os valores de atributos (e seus modificadores) são:\n",
      "FOR: 15 (2)\n",
      "DES: 14 (2)\n",
      "CON: 13 (1)\n",
      "INT: 13 (1)\n",
      "SAB: 8 (-1)\n",
      "CAR: 13 (1)\n"
     ]
    }
   ],
   "source": [
    "print(f'A raça é {racas[gerador_de_raca]}, a classe é {classes[gerador_de_classe]} e o background é {background[gerador_de_background]}')\n",
    "\n",
    "print(f'\\nOs valores de atributos (e seus modificadores) são:\\n\\\n",
    "FOR: {FOR} ({modificadores[FOR]})\\n\\\n",
    "DES: {DES} ({modificadores[DES]})\\n\\\n",
    "CON: {CON} ({modificadores[CON]})\\n\\\n",
    "INT: {INT} ({modificadores[INT]})\\n\\\n",
    "SAB: {SAB} ({modificadores[SAB]})\\n\\\n",
    "CAR: {CAR} ({modificadores[CAR]})')"
   ]
  }
 ],
 "metadata": {
  "interpreter": {
   "hash": "31f2aee4e71d21fbe5cf8b01ff0e069b9275f58929596ceb00d14d90e3e16cd6"
  },
  "kernelspec": {
   "display_name": "Python 3.8.5 64-bit",
   "language": "python",
   "name": "python3"
  },
  "language_info": {
   "codemirror_mode": {
    "name": "ipython",
    "version": 3
   },
   "file_extension": ".py",
   "mimetype": "text/x-python",
   "name": "python",
   "nbconvert_exporter": "python",
   "pygments_lexer": "ipython3",
   "version": "3.8.5"
  },
  "orig_nbformat": 4
 },
 "nbformat": 4,
 "nbformat_minor": 2
}
